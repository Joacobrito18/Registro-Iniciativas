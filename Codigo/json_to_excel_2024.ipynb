{
 "cells": [
  {
   "cell_type": "markdown",
   "metadata": {},
   "source": [
    "Esta notebook carga el .JSON creado por pptx_cierre_a_json (input) y genera un excel con la data ordenada y legible (output).\n",
    "Hay distintas funciones que van extrayendo la data y limpiando los str."
   ]
  },
  {
   "cell_type": "code",
   "execution_count": 1,
   "metadata": {},
   "outputs": [],
   "source": [
    "import pandas as pd\n",
    "import json\n",
    "import re\n",
    "# Use openpyxl to hide a column\n",
    "from openpyxl import load_workbook"
   ]
  },
  {
   "cell_type": "code",
   "execution_count": null,
   "metadata": {},
   "outputs": [],
   "source": [
    "\"\"\"MUY IMPORTANTE EL PASO DE FILTERED_DATA, YA QUE LAS PRIMERAS 3 Y LA ÚLTIMA DIAPOSITIVA SON DE ESTILO, ES DECIR, NO HAY INFORMACIÓN SOBRE LOS PROYECTOS\"\"\"\n",
    "\n",
    "# Load JSON data from a file\n",
    "with open('../Data/2024-I+D_Ficha Registro Iniciativas.json', 'r', encoding='utf-8') as file:\n",
    "    data = json.load(file)\n",
    "\n",
    "# Ignore the first 2 and last 2 elements\n",
    "filtered_data = data[3:-1] #CHECKEAR QUE NO SE HAYA CAMBIADO EL FORMATO DE LA PPTX\n",
    "# Create a DataFrame\n",
    "df = pd.DataFrame(filtered_data)\n",
    "#print(df)"
   ]
  },
  {
   "cell_type": "code",
   "execution_count": null,
   "metadata": {},
   "outputs": [],
   "source": [
    "\"\"\"Inicializo el df con los nombres de las columnas que quiero\"\"\"\n",
    "df[\"Proyecto\"]=None\n",
    "df[\"Equipo\"]=None\n",
    "df[\"Fecha_Inicio\"]=None\n",
    "df[\"Fecha_Cierre\"]=None\n",
    "df[\"Duracion_Semanas\"]=None\n",
    "df[\"Industria\"]=None\n",
    "df[\"Tipo_Cliente\"]=None\n",
    "df[\"Detalle_Cliente\"]=None\n",
    "df[\"Interlocutor\"]=None\n",
    "df[\"Celula\"]=None\n",
    "df[\"Docu_Validada\"]=None\n",
    "df[\"Link_Presentacion\"]=None\n",
    "df[\"Link_Demo\"]=None\n",
    "df[\"Link_Codigo\"]=None\n",
    "df[\"Link_Documentacion\"]=None\n",
    "df[\"Tecnologias\"]=None\n",
    "df[\"Comentarios\"]=None"
   ]
  },
  {
   "cell_type": "code",
   "execution_count": 4,
   "metadata": {},
   "outputs": [],
   "source": [
    "# Function to remove specified strings and unwanted substrings (including '\\u200b', '(Si/ No)', etc.)\n",
    "def clean_elements(text_list):\n",
    "    return [\n",
    "        item.replace('\\u200b', '')  # Remove zero-width space\n",
    "            .replace('(Si/ No):', '')  # Remove '(Si/ No)'\n",
    "            .replace('(Si/ No)', '')\n",
    "            .replace('(Interno/Externo/ i+D )', '')  # Remove '(Interno/Externo/ i+D )'\n",
    "        for item in text_list\n",
    "        if item != \"Equipo I+D\" \n",
    "        and item != 'FICHA de REGISTRO DE Iniciativas' \n",
    "        and not item.startswith(\"Copyright\")\n",
    "    ]\n",
    "\n",
    "# Apply the function to the 'texts' column\n",
    "df['texts'] = df['texts'].apply(clean_elements)"
   ]
  },
  {
   "cell_type": "code",
   "execution_count": 6,
   "metadata": {},
   "outputs": [],
   "source": [
    "# Function to extract the project name\n",
    "def extract_proyecto(text_list):\n",
    "    for item in text_list:\n",
    "        if item.startswith(\"Nombre Iniciativa:\"):\n",
    "            return item.replace(\"Nombre Iniciativa:\", \"\").strip()  # Remove \"PROYECTO:\" and strip whitespace\n",
    "    return None  # Return None if not found\n",
    "\n",
    "# Apply the function to the 'text' column to create the 'Proyecto' column\n",
    "df['Proyecto'] = df['texts'].apply(extract_proyecto)"
   ]
  },
  {
   "cell_type": "code",
   "execution_count": 7,
   "metadata": {},
   "outputs": [],
   "source": [
    "# Function to extract and clean the team name\n",
    "def extract_equipo(text_list):\n",
    "    for item in text_list:\n",
    "        if item.startswith(\"Equipo\"):\n",
    "            # Remove \"Equipo:\", \"Nombre\", and any colons, then strip whitespace\n",
    "            cleaned_str = item.replace(\"Equipo :\", \"\").strip()\n",
    "            return cleaned_str\n",
    "    return None  # Return None if not found\n",
    "\n",
    "# Apply the function to the 'texts' column to create the 'Equipo' column\n",
    "df['Equipo'] = df['texts'].apply(extract_equipo)"
   ]
  },
  {
   "cell_type": "code",
   "execution_count": 8,
   "metadata": {},
   "outputs": [],
   "source": [
    "def extract_info_to_columns(df,text_column):\n",
    "    keywords = [\n",
    "        ('Industria:', 'Industria'),\n",
    "        ('Tipo de Cliente:', 'Tipo_Cliente'),\n",
    "        ('Detalle de cliente:', 'Detalle_Cliente'),\n",
    "        ('Interlocutor de cliente:', 'Interlocutor'),\n",
    "        ('Célula:','Celula'),\n",
    "        ('Documentación Validada:','Docu_Validada')\n",
    "    ]\n",
    "\n",
    "    # Function to extract the first link for a given keyword from a list of strings\n",
    "    def extract_info(text_list, keyword):\n",
    "        for text in text_list:\n",
    "            if text.startswith(keyword):\n",
    "                return text.replace(keyword, \"\").strip()\n",
    "        return None\n",
    "\n",
    "    # Overwrite existing columns with extracted links\n",
    "    for keyword, column in keywords:\n",
    "        df[column] = df[text_column].apply(lambda x: extract_info(x, keyword))\n",
    "\n",
    "    return df\n",
    "\n",
    "df = extract_info_to_columns(df, 'texts')"
   ]
  },
  {
   "cell_type": "code",
   "execution_count": 9,
   "metadata": {},
   "outputs": [],
   "source": [
    "# Function to extract relevant technology information\n",
    "def extract_tecnologias(text_list):\n",
    "    for text in text_list:\n",
    "        if text.startswith(\"TECNOLOGIAS APLICADAS\"):\n",
    "            return text.replace(\"TECNOLOGIAS APLICADAS\", \"\")\n",
    "    return None\n",
    "\n",
    "# Create the \"Tecnologias\" column\n",
    "df['Tecnologias'] = df['texts'].apply(extract_tecnologias)"
   ]
  },
  {
   "cell_type": "code",
   "execution_count": 10,
   "metadata": {},
   "outputs": [],
   "source": [
    "def extract_dates_and_quantity(df,text_column):\n",
    "    # Define keywords and corresponding column names\n",
    "    keywords = [\n",
    "        ('Fecha Inicio:', 'Fecha_Inicio'),\n",
    "        ('Fecha Fin:', 'Fecha_Cierre'),\n",
    "        ('Cantidad semanas netas :', 'Duracion_Semanas'),\n",
    "    ]\n",
    "\n",
    "    # Function to extract the first link for a given keyword from a list of strings\n",
    "    def extract_dates(text_list, keyword):\n",
    "        for text in text_list:\n",
    "            if text.startswith(keyword):\n",
    "                return text.replace(keyword, \"\").strip()\n",
    "        return None\n",
    "\n",
    "    # Overwrite existing columns with extracted links\n",
    "    for keyword, column in keywords:\n",
    "        df[column] = df[text_column].apply(lambda x: extract_dates(x, keyword))\n",
    "\n",
    "    return df\n",
    "\n",
    "df = extract_dates_and_quantity(df, 'texts')\n"
   ]
  },
  {
   "cell_type": "code",
   "execution_count": 11,
   "metadata": {},
   "outputs": [],
   "source": [
    "def extract_links_to_columns(df, text_column):\n",
    "    # Define keywords and corresponding column names\n",
    "    keywords = [\n",
    "        ('LINK ACCESO A PRESENTACION', 'Link_Presentacion'),\n",
    "        ('LINK ACCESO A CODIGO', 'Link_Codigo'),\n",
    "        ('LINK ACCESO A DEMO grabada (si corresponde)', 'Link_Demo'),\n",
    "        ('LINK ACCESO A DOCUMENTACION', 'Link_Documentacion')\n",
    "    ]\n",
    "\n",
    "    # Function to extract the first link for a given keyword from a list of strings\n",
    "    def extract_link(text_list, keyword):\n",
    "        for text in text_list:\n",
    "            if keyword.lower() in text.lower():  # Case insensitive match\n",
    "                match = re.search(r'https?://[^\\s]+', text)\n",
    "                if match:\n",
    "                    return match.group(0)\n",
    "        return None\n",
    "\n",
    "    # Overwrite existing columns with extracted links\n",
    "    for keyword, column in keywords:\n",
    "        df[column] = df[text_column].apply(lambda x: extract_link(x, keyword))\n",
    "\n",
    "    return df\n",
    "\n",
    "df = extract_links_to_columns(df, 'texts')"
   ]
  },
  {
   "cell_type": "code",
   "execution_count": 12,
   "metadata": {},
   "outputs": [],
   "source": [
    "def comentarios(text_list):\n",
    "    for text in text_list:\n",
    "        if text.startswith(\"Comentarios adicionales (opcional)\"):\n",
    "            return text.replace(\"Comentarios adicionales (opcional) :\", \"\")\n",
    "    return None\n",
    "\n",
    "# Create the \"Tecnologias\" column\n",
    "df['Comentarios'] = df['texts'].apply(comentarios)"
   ]
  },
  {
   "cell_type": "code",
   "execution_count": 13,
   "metadata": {},
   "outputs": [],
   "source": [
    "df=df.drop(\"texts\",axis=1)"
   ]
  },
  {
   "cell_type": "code",
   "execution_count": 14,
   "metadata": {},
   "outputs": [
    {
     "name": "stdout",
     "output_type": "stream",
     "text": [
      "DataFrame saved to ../Data/output_proyectos.xlsx\n"
     ]
    }
   ],
   "source": [
    "# Save to Excel\n",
    "excel_file = '../Data/output_proyectos.xlsx'\n",
    "df.to_excel(excel_file, index=False)\n",
    "\n",
    "# Load the workbook and select the active sheet\n",
    "wb = load_workbook(excel_file)\n",
    "ws = wb.active\n",
    "\n",
    "# Save the changes\n",
    "wb.save(excel_file)\n",
    "wb.close()\n",
    "\n",
    "print(f\"DataFrame saved to {excel_file}\")"
   ]
  }
 ],
 "metadata": {
  "kernelspec": {
   "display_name": "Python 3",
   "language": "python",
   "name": "python3"
  },
  "language_info": {
   "codemirror_mode": {
    "name": "ipython",
    "version": 3
   },
   "file_extension": ".py",
   "mimetype": "text/x-python",
   "name": "python",
   "nbconvert_exporter": "python",
   "pygments_lexer": "ipython3",
   "version": "3.10.10"
  }
 },
 "nbformat": 4,
 "nbformat_minor": 2
}
