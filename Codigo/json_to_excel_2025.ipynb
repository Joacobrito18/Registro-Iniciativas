{
 "cells": [
  {
   "cell_type": "markdown",
   "metadata": {},
   "source": [
    "Esta notebook carga el .JSON creado por pptx_cierre_a_json (input) y genera un excel con la data ordenada y legible (output).\n",
    "Hay distintas funciones que van extrayendo la data y limpiando los str."
   ]
  },
  {
   "cell_type": "code",
   "execution_count": 3,
   "metadata": {},
   "outputs": [],
   "source": [
    "import pandas as pd\n",
    "import json\n",
    "import re\n",
    "# Use openpyxl to hide a column\n",
    "from openpyxl import load_workbook"
   ]
  },
  {
   "cell_type": "code",
   "execution_count": 4,
   "metadata": {},
   "outputs": [
    {
     "ename": "FileNotFoundError",
     "evalue": "[Errno 2] No such file or directory: '../Data/2025-I+D_Ficha Registro Iniciativas.json'",
     "output_type": "error",
     "traceback": [
      "\u001b[31m---------------------------------------------------------------------------\u001b[39m",
      "\u001b[31mFileNotFoundError\u001b[39m                         Traceback (most recent call last)",
      "\u001b[36mCell\u001b[39m\u001b[36m \u001b[39m\u001b[32mIn[4]\u001b[39m\u001b[32m, line 4\u001b[39m\n\u001b[32m      1\u001b[39m \u001b[33;03m\"\"\"MUY IMPORTANTE EL PASO DE FILTERED_DATA, YA QUE LAS PRIMERAS 3 Y LA ÚLTIMA DIAPOSITIVA SON DE ESTILO, ES DECIR, NO HAY INFORMACIÓN SOBRE LOS PROYECTOS\"\"\"\u001b[39;00m\n\u001b[32m      3\u001b[39m \u001b[38;5;66;03m# Load JSON data from a file\u001b[39;00m\n\u001b[32m----> \u001b[39m\u001b[32m4\u001b[39m \u001b[38;5;28;01mwith\u001b[39;00m \u001b[38;5;28;43mopen\u001b[39;49m\u001b[43m(\u001b[49m\u001b[33;43m'\u001b[39;49m\u001b[33;43m../Data/2025-I+D_Ficha Registro Iniciativas.json\u001b[39;49m\u001b[33;43m'\u001b[39;49m\u001b[43m,\u001b[49m\u001b[43m \u001b[49m\u001b[33;43m'\u001b[39;49m\u001b[33;43mr\u001b[39;49m\u001b[33;43m'\u001b[39;49m\u001b[43m,\u001b[49m\u001b[43m \u001b[49m\u001b[43mencoding\u001b[49m\u001b[43m=\u001b[49m\u001b[33;43m'\u001b[39;49m\u001b[33;43mutf-8\u001b[39;49m\u001b[33;43m'\u001b[39;49m\u001b[43m)\u001b[49m \u001b[38;5;28;01mas\u001b[39;00m file:\n\u001b[32m      5\u001b[39m     data = json.load(file)\n\u001b[32m      7\u001b[39m \u001b[38;5;66;03m# Ignore the first 2 and last 2 elements\u001b[39;00m\n",
      "\u001b[36mFile \u001b[39m\u001b[32m~\\AppData\\Roaming\\Python\\Python311\\site-packages\\IPython\\core\\interactiveshell.py:327\u001b[39m, in \u001b[36m_modified_open\u001b[39m\u001b[34m(file, *args, **kwargs)\u001b[39m\n\u001b[32m    320\u001b[39m \u001b[38;5;28;01mif\u001b[39;00m file \u001b[38;5;129;01min\u001b[39;00m {\u001b[32m0\u001b[39m, \u001b[32m1\u001b[39m, \u001b[32m2\u001b[39m}:\n\u001b[32m    321\u001b[39m     \u001b[38;5;28;01mraise\u001b[39;00m \u001b[38;5;167;01mValueError\u001b[39;00m(\n\u001b[32m    322\u001b[39m         \u001b[33mf\u001b[39m\u001b[33m\"\u001b[39m\u001b[33mIPython won\u001b[39m\u001b[33m'\u001b[39m\u001b[33mt let you open fd=\u001b[39m\u001b[38;5;132;01m{\u001b[39;00mfile\u001b[38;5;132;01m}\u001b[39;00m\u001b[33m by default \u001b[39m\u001b[33m\"\u001b[39m\n\u001b[32m    323\u001b[39m         \u001b[33m\"\u001b[39m\u001b[33mas it is likely to crash IPython. If you know what you are doing, \u001b[39m\u001b[33m\"\u001b[39m\n\u001b[32m    324\u001b[39m         \u001b[33m\"\u001b[39m\u001b[33myou can use builtins\u001b[39m\u001b[33m'\u001b[39m\u001b[33m open.\u001b[39m\u001b[33m\"\u001b[39m\n\u001b[32m    325\u001b[39m     )\n\u001b[32m--> \u001b[39m\u001b[32m327\u001b[39m \u001b[38;5;28;01mreturn\u001b[39;00m \u001b[43mio_open\u001b[49m\u001b[43m(\u001b[49m\u001b[43mfile\u001b[49m\u001b[43m,\u001b[49m\u001b[43m \u001b[49m\u001b[43m*\u001b[49m\u001b[43margs\u001b[49m\u001b[43m,\u001b[49m\u001b[43m \u001b[49m\u001b[43m*\u001b[49m\u001b[43m*\u001b[49m\u001b[43mkwargs\u001b[49m\u001b[43m)\u001b[49m\n",
      "\u001b[31mFileNotFoundError\u001b[39m: [Errno 2] No such file or directory: '../Data/2025-I+D_Ficha Registro Iniciativas.json'"
     ]
    }
   ],
   "source": [
    "\"\"\"MUY IMPORTANTE EL PASO DE FILTERED_DATA, YA QUE LAS PRIMERAS 3 Y LA ÚLTIMA DIAPOSITIVA SON DE ESTILO, ES DECIR, NO HAY INFORMACIÓN SOBRE LOS PROYECTOS\"\"\"\n",
    "\n",
    "# Load JSON data from a file\n",
    "with open('../Data/2025-I+D_Ficha Registro Iniciativas.json', 'r', encoding='utf-8') as file:\n",
    "    data = json.load(file)\n",
    "\n",
    "# Ignore the first 2 and last 2 elements\n",
    "filtered_data = data[4:] #CHECKEAR QUE NO SE HAYA CAMBIADO EL FORMATO DE LA PPTX\n",
    "# Create a DataFrame\n",
    "df = pd.DataFrame(filtered_data)\n",
    "#print(df)"
   ]
  },
  {
   "cell_type": "code",
   "execution_count": null,
   "metadata": {},
   "outputs": [],
   "source": [
    "\"\"\"Inicializo el df con los nombres de las columnas que quiero\"\"\"\n",
    "df[\"Proyecto\"]=None\n",
    "df[\"Codigo\"]=None\n",
    "df[\"Equipo\"]=None\n",
    "df[\"Referente\"]=None\n",
    "df[\"Fecha_Inicio\"]=None\n",
    "df[\"Fecha_Cierre\"]=None\n",
    "df[\"Duracion_Semanas\"]=None\n",
    "df[\"Industria\"]=None\n",
    "df[\"Tipo_Cliente\"]=None\n",
    "df[\"Detalle_Cliente\"]=None\n",
    "df[\"Interlocutor\"]=None\n",
    "df[\"Celula\"]=None\n",
    "df[\"Docu_Validada\"]=None\n",
    "df[\"Objetivo\"]=None\n",
    "df[\"Alcance\"]=None\n",
    "df[\"Link_Presentacion\"]=None\n",
    "df[\"Link_Demo\"]=None\n",
    "df[\"Link_Codigo\"]=None\n",
    "df[\"Link_Documentacion\"]=None\n",
    "df[\"Tecnologias\"]=None\n",
    "#df[\"Comentarios\"]=None\n"
   ]
  },
  {
   "cell_type": "code",
   "execution_count": null,
   "metadata": {},
   "outputs": [],
   "source": [
    "# Function to remove specified strings and unwanted substrings (including '\\u200b', '(Si/ No)', etc.)\n",
    "def clean_elements(text_list):\n",
    "    return [\n",
    "        item.replace('\\u200b', '')  # Remove zero-width space\n",
    "            .replace('(Si/ No) :', '')\n",
    "            .replace('(Si/ No):', '')  # Remove '(Si/ No)'\n",
    "            .replace('(Si/ No)', '')\n",
    "            .replace('(Interno/Externo/ I+D) :', '')\n",
    "            .replace('(Interno/Externo/ I+D):', '')\n",
    "            .replace('(Interno/Externo/ I+D)', '')\n",
    "        for item in text_list\n",
    "        if item != \"Equipo I+D\" \n",
    "        and item != 'FICHA de REGISTRO DE Iniciativas' \n",
    "        and not item.startswith(\"Copyright\")\n",
    "    ]\n",
    "\n",
    "# Apply the function to the 'texts' column\n",
    "df['texts'] = df['texts'].apply(clean_elements)"
   ]
  },
  {
   "cell_type": "code",
   "execution_count": null,
   "metadata": {},
   "outputs": [],
   "source": [
    "# Function to extract the project name\n",
    "def extract_proyecto(text_list):\n",
    "    for item in text_list:\n",
    "        if item.startswith(\"Nombre Iniciativa:\"):\n",
    "            return item.replace(\"Nombre Iniciativa:\", \"\").strip()  # Remove \"PROYECTO:\" and strip whitespace\n",
    "    return None  # Return None if not found\n",
    "\n",
    "# Apply the function to the 'text' column to create the 'Proyecto' column\n",
    "df['Proyecto'] = df['texts'].apply(extract_proyecto)"
   ]
  },
  {
   "cell_type": "code",
   "execution_count": null,
   "metadata": {},
   "outputs": [],
   "source": [
    "# Function to extract and clean the team name\n",
    "def extract_equipo(text_list):\n",
    "    for item in text_list:\n",
    "        if item.startswith(\"Equipo\"):\n",
    "            # Remove \"Equipo:\", \"Nombre\", and any colons, then strip whitespace\n",
    "            cleaned_str = item.replace(\"Equipo :\", \"\").strip()\n",
    "            return cleaned_str\n",
    "    return None  # Return None if not found\n",
    "\n",
    "# Apply the function to the 'texts' column to create the 'Equipo' column\n",
    "df['Equipo'] = df['texts'].apply(extract_equipo)"
   ]
  },
  {
   "cell_type": "code",
   "execution_count": null,
   "metadata": {},
   "outputs": [],
   "source": [
    "def extract_codigo(text_list):\n",
    "    for item in text_list:\n",
    "        if item.startswith(\"CÓDIGO\") or item.startswith(\"código\"):\n",
    "            cleaned_str = item.replace(\"código :\", \"\").replace(\"código:\", \"\").replace(\"CÓDIGO :\", \"\").replace(\"CÓDIGO:\", \"\").strip()\n",
    "            return cleaned_str\n",
    "    return None  # Return None if not found\n",
    "\n",
    "# Apply the function to the 'texts' column to create the 'Equipo' column\n",
    "df['Codigo'] = df['texts'].apply(extract_codigo)"
   ]
  },
  {
   "cell_type": "code",
   "execution_count": null,
   "metadata": {},
   "outputs": [],
   "source": [
    "def extract_referente(text_list):\n",
    "    for item in text_list:\n",
    "        if item.startswith(\"Referente\"):\n",
    "            # Remove \"Equipo:\", \"Nombre\", and any colons, then strip whitespace\n",
    "            cleaned_str = item.replace(\"Referente:\", \"\").strip()\n",
    "            return cleaned_str\n",
    "    return None  # Return None if not found\n",
    "\n",
    "# Apply the function to the 'texts' column to create the 'Equipo' column\n",
    "df['Referente'] = df['texts'].apply(extract_referente)"
   ]
  },
  {
   "cell_type": "code",
   "execution_count": null,
   "metadata": {},
   "outputs": [],
   "source": [
    "def extract_info_to_columns(df,text_column):\n",
    "    keywords = [\n",
    "        ('Industria:', 'Industria'),\n",
    "        ('Tipo de Cliente:', 'Tipo_Cliente'),\n",
    "        ('Detalle de cliente:', 'Detalle_Cliente'),\n",
    "        ('Interlocutor de cliente:', 'Interlocutor'),\n",
    "        ('Célula:','Celula'),\n",
    "        ('Documentación Validada:','Docu_Validada')\n",
    "    ]\n",
    "\n",
    "    # Function to extract the first link for a given keyword from a list of strings\n",
    "    def extract_info(text_list, keyword):\n",
    "        for text in text_list:\n",
    "            if text.startswith(keyword):\n",
    "                return text.replace(keyword, \"\").strip()\n",
    "        return None\n",
    "\n",
    "    # Overwrite existing columns with extracted links\n",
    "    for keyword, column in keywords:\n",
    "        df[column] = df[text_column].apply(lambda x: extract_info(x, keyword))\n",
    "\n",
    "    return df\n",
    "\n",
    "df = extract_info_to_columns(df, 'texts')"
   ]
  },
  {
   "cell_type": "code",
   "execution_count": null,
   "metadata": {},
   "outputs": [],
   "source": [
    "def alcance(text_list):\n",
    "    for text in text_list:\n",
    "        if text.startswith(\"Alcance\"):\n",
    "            return text.replace(\"Alcance:\", \"\")\n",
    "    return None\n",
    "\n",
    "# Create the \"Tecnologias\" column\n",
    "df['Alcance'] = df['texts'].apply(alcance)"
   ]
  },
  {
   "cell_type": "code",
   "execution_count": null,
   "metadata": {},
   "outputs": [],
   "source": [
    "def objetivos(text_list):\n",
    "    for text in text_list:\n",
    "        if text.startswith(\"Objetivo\"):\n",
    "            return text.replace(\"Objetivo:\", \"\")\n",
    "    return None\n",
    "\n",
    "# Create the \"Tecnologias\" column\n",
    "df['Objetivo'] = df['texts'].apply(objetivos)"
   ]
  },
  {
   "cell_type": "code",
   "execution_count": null,
   "metadata": {},
   "outputs": [],
   "source": [
    "# Function to extract relevant technology information\n",
    "def extract_tecnologias(text_list):\n",
    "    for text in text_list:\n",
    "        if text.startswith(\"TECNOLOGIAS APLICADAS\"):\n",
    "            return text.replace(\"TECNOLOGIAS APLICADAS\", \"\")\n",
    "    return None\n",
    "\n",
    "# Create the \"Tecnologias\" column\n",
    "df['Tecnologias'] = df['texts'].apply(extract_tecnologias)"
   ]
  },
  {
   "cell_type": "code",
   "execution_count": null,
   "metadata": {},
   "outputs": [],
   "source": [
    "def extract_dates_and_quantity(df,text_column):\n",
    "    # Define keywords and corresponding column names\n",
    "    keywords = [\n",
    "        ('Fecha Inicio:', 'Fecha_Inicio'),\n",
    "        ('Fecha Fin:', 'Fecha_Cierre'),\n",
    "        ('Cantidad semanas netas :', 'Duracion_Semanas'),\n",
    "    ]\n",
    "\n",
    "    # Function to extract the first link for a given keyword from a list of strings\n",
    "    def extract_dates(text_list, keyword):\n",
    "        for text in text_list:\n",
    "            if text.startswith(keyword):\n",
    "                return text.replace(keyword, \"\").strip()\n",
    "        return None\n",
    "\n",
    "    # Overwrite existing columns with extracted links\n",
    "    for keyword, column in keywords:\n",
    "        df[column] = df[text_column].apply(lambda x: extract_dates(x, keyword))\n",
    "\n",
    "    return df\n",
    "\n",
    "df = extract_dates_and_quantity(df, 'texts')\n"
   ]
  },
  {
   "cell_type": "code",
   "execution_count": null,
   "metadata": {},
   "outputs": [],
   "source": [
    "def extract_links_to_columns(df, text_column):\n",
    "    # Define keywords and corresponding column names\n",
    "    keywords = [\n",
    "        ('LINK ACCESO A PRESENTACION', 'Link_Presentacion'),\n",
    "        ('LINK ACCESO A CODIGO', 'Link_Codigo'),\n",
    "        ('LINK ACCESO A DEMO grabada (si corresponde)', 'Link_Demo'),\n",
    "        ('LINK ACCESO A DOCUMENTACION', 'Link_Documentacion')\n",
    "    ]\n",
    "\n",
    "    # Function to extract the first link for a given keyword from a list of strings\n",
    "    def extract_link(text_list, keyword):\n",
    "        for text in text_list:\n",
    "            if keyword.lower() in text.lower():  # Case insensitive match for the keyword\n",
    "                # Look for a URL in the text\n",
    "                match = re.search(r'https?://[^\\s]+', text)\n",
    "                if match:\n",
    "                    return match.group(0)\n",
    "                else:\n",
    "                    # Look for the \"no aplica\" expression in different cases (case insensitive)\n",
    "                    no_aplica = re.search(r'no aplica', text, re.IGNORECASE)\n",
    "                    if no_aplica:\n",
    "                        return no_aplica.group(0)  # Return the exact match for \"no aplica\"\n",
    "        return None  # Return None if no match is found\n",
    "\n",
    "    # Overwrite existing columns with extracted links\n",
    "    for keyword, column in keywords:\n",
    "        df[column] = df[text_column].apply(lambda x: extract_link(x, keyword))\n",
    "\n",
    "    return df\n",
    "\n",
    "df = extract_links_to_columns(df, 'texts')"
   ]
  },
  {
   "cell_type": "code",
   "execution_count": null,
   "metadata": {},
   "outputs": [],
   "source": [
    "#def comentarios(text_list):\n",
    "    #for text in text_list:\n",
    "        #if text.startswith(\"Comentarios adicionales (opcional)\"):\n",
    "            #return text.replace(\"Comentarios adicionales (opcional) :\", \"\")\n",
    "    #return None\n",
    "\n",
    "# Create the \"Tecnologias\" column\n",
    "#df['Comentarios'] = df['texts'].apply(comentarios)"
   ]
  },
  {
   "cell_type": "code",
   "execution_count": null,
   "metadata": {},
   "outputs": [],
   "source": [
    "df=df.drop(\"texts\",axis=1)"
   ]
  },
  {
   "cell_type": "code",
   "execution_count": null,
   "metadata": {},
   "outputs": [
    {
     "name": "stdout",
     "output_type": "stream",
     "text": [
      "DataFrame saved to ../Data/output_proyectos.xlsx\n"
     ]
    }
   ],
   "source": [
    "# Save to Excel\n",
    "excel_file = '../Data/output_proyectos.xlsx'\n",
    "df.to_excel(excel_file, index=False)\n",
    "\n",
    "# Load the workbook and select the active sheet\n",
    "wb = load_workbook(excel_file)\n",
    "ws = wb.active\n",
    "\n",
    "# Save the changes\n",
    "wb.save(excel_file)\n",
    "wb.close()\n",
    "\n",
    "print(f\"DataFrame saved to {excel_file}\")"
   ]
  }
 ],
 "metadata": {
  "kernelspec": {
   "display_name": "Python 3",
   "language": "python",
   "name": "python3"
  },
  "language_info": {
   "codemirror_mode": {
    "name": "ipython",
    "version": 3
   },
   "file_extension": ".py",
   "mimetype": "text/x-python",
   "name": "python",
   "nbconvert_exporter": "python",
   "pygments_lexer": "ipython3",
   "version": "3.11.0"
  }
 },
 "nbformat": 4,
 "nbformat_minor": 2
}
