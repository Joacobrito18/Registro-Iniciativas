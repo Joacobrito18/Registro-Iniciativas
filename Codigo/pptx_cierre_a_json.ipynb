{
 "cells": [
  {
   "cell_type": "markdown",
   "metadata": {},
   "source": [
    "ESTA NOTEBOOK TRABAJA SOBRE UN POWERPOINT. EXTRAE LA INFORMACIÓN DEL TEXTO Y DEVUELVE UN JSON\n",
    "Cada slide del powerpoint tendrá su número y sus campos de texto. Cada \"cuadro de texto\" dentro del powerpoint es un str.\n",
    "Como parámetros, hay que especificar la ruta hacia el .pptx y la ruta donde querramos guardar el output.\n",
    "\n",
    "input = path/archivo.pptx\n",
    "output = path (GUARDA UN .JSON)"
   ]
  },
  {
   "cell_type": "code",
   "execution_count": 1,
   "metadata": {},
   "outputs": [],
   "source": [
    "from pptx import Presentation\n",
    "import os\n",
    "import json"
   ]
  },
  {
   "cell_type": "code",
   "execution_count": 2,
   "metadata": {},
   "outputs": [],
   "source": [
    "def extract_text_and_hyperlinks_from_shape(shape):\n",
    "    \"\"\"Extract text and hyperlinks from a single shape.\"\"\"\n",
    "    combined_texts = []\n",
    "\n",
    "    if shape.has_text_frame:\n",
    "        for paragraph in shape.text_frame.paragraphs:\n",
    "            for run in paragraph.runs:\n",
    "                text = run.text.strip()\n",
    "                if run.hyperlink and run.hyperlink.address:\n",
    "                    text = f\"{text} (link: {run.hyperlink.address})\"  # Include hyperlink in text\n",
    "                combined_texts.append(text)\n",
    "    elif shape.shape_type == 19:  # Table shape\n",
    "        for row in shape.table.rows:\n",
    "            for cell in row.cells:\n",
    "                for paragraph in cell.text_frame.paragraphs:\n",
    "                    for run in paragraph.runs:\n",
    "                        text = run.text.strip()\n",
    "                        if run.hyperlink and run.hyperlink.address:\n",
    "                            text = f\"{text} (link: {run.hyperlink.address})\"  # Include hyperlink in text\n",
    "                        combined_texts.append(text)\n",
    "    elif shape.shape_type == 5:  # Group shape\n",
    "        for s in shape.shapes:\n",
    "            text = extract_text_and_hyperlinks_from_shape(s)\n",
    "            combined_texts.append(text)\n",
    "\n",
    "    # Remove any empty texts\n",
    "    combined_texts = [text for text in combined_texts if text]\n",
    "\n",
    "    return \" \".join(combined_texts).strip()\n",
    "\n",
    "def extract_pptx_to_json(pptx_path, output_folder):\n",
    "    # Load the presentation\n",
    "    prs = Presentation(pptx_path)\n",
    "    presentation_data = []\n",
    "\n",
    "    # Ensure output folder exists\n",
    "    if not os.path.exists(output_folder):\n",
    "        os.makedirs(output_folder)\n",
    "\n",
    "    # Iterate through the slides\n",
    "    for slide_number, slide in enumerate(prs.slides, start=1):\n",
    "        slide_data = {\n",
    "            \"slide_number\": slide_number,\n",
    "            \"texts\": []\n",
    "        }\n",
    "\n",
    "        # Iterate through shapes on each slide\n",
    "        for shape in slide.shapes:\n",
    "            text = extract_text_and_hyperlinks_from_shape(shape)\n",
    "            if text:  # Only add non-empty texts\n",
    "                slide_data['texts'].append(text)\n",
    "\n",
    "        # Remove empty lists if they have no values\n",
    "        if not slide_data['texts']:\n",
    "            del slide_data['texts']\n",
    "\n",
    "        # Add slide data to presentation data\n",
    "        presentation_data.append(slide_data)\n",
    "\n",
    "    # Save presentation data as JSON\n",
    "    output_json_path = os.path.join(output_folder, os.path.basename(pptx_path).replace('.pptx', '.json'))\n",
    "    with open(output_json_path, 'w', encoding='utf-8') as json_file:\n",
    "        json.dump(presentation_data, json_file, ensure_ascii=False, indent=4)\n",
    "\n",
    "    print(f\"Presentation processed and saved to {output_json_path}\")"
   ]
  },
  {
   "cell_type": "code",
   "execution_count": 5,
   "metadata": {},
   "outputs": [
    {
     "name": "stdout",
     "output_type": "stream",
     "text": [
      "Presentation processed and saved to ../Data\\2024-I+D_Ficha Registro Iniciativas.json\n"
     ]
    }
   ],
   "source": [
    "\"\"\"ESPECIFICAR LA RUTA AL ARCHIVO .PPTX DE INTERÉS (INPUT_FOLDER)\n",
    "ESPECIFICAR LA CARPETA DONDE QUERRAMOS GUARDAR EL OUTPUT (EL .JSON) COMO OUTPUT_FOLDER\"\"\"\n",
    "input_folder = r'../Data/2024-I+D_Ficha Registro Iniciativas.pptx'\n",
    "output_folder = r'../Data'\n",
    "\n",
    "extract_pptx_to_json(input_folder, output_folder)"
   ]
  },
  {
   "cell_type": "markdown",
   "metadata": {},
   "source": []
  }
 ],
 "metadata": {
  "kernelspec": {
   "display_name": "Python 3",
   "language": "python",
   "name": "python3"
  },
  "language_info": {
   "codemirror_mode": {
    "name": "ipython",
    "version": 3
   },
   "file_extension": ".py",
   "mimetype": "text/x-python",
   "name": "python",
   "nbconvert_exporter": "python",
   "pygments_lexer": "ipython3",
   "version": "3.11.0"
  }
 },
 "nbformat": 4,
 "nbformat_minor": 2
}
